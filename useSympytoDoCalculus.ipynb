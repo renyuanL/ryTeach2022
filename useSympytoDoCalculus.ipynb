{
  "cells": [
    {
      "cell_type": "markdown",
      "metadata": {
        "id": "view-in-github",
        "colab_type": "text"
      },
      "source": [
        "<a href=\"https://colab.research.google.com/github/renyuanL/ryTeach2022/blob/main/useSympytoDoCalculus.ipynb\" target=\"_parent\"><img src=\"https://colab.research.google.com/assets/colab-badge.svg\" alt=\"Open In Colab\"/></a>"
      ]
    },
    {
      "cell_type": "code",
      "execution_count": null,
      "id": "af823198-0af8-41a1-8359-d4a972af6554",
      "metadata": {
        "tags": [],
        "colab": {
          "base_uri": "https://localhost:8080/",
          "height": 53
        },
        "id": "af823198-0af8-41a1-8359-d4a972af6554",
        "outputId": "935f20bb-4827-4c18-8557-93c2af2fc4f2"
      },
      "outputs": [
        {
          "output_type": "execute_result",
          "data": {
            "text/latex": "$\\displaystyle \\frac{1}{x^{2} + 1}$",
            "text/plain": [
              "1/(x**2 + 1)"
            ]
          },
          "metadata": {},
          "execution_count": 1
        }
      ],
      "source": [
        "import sympy as sm\n",
        "\n",
        "# set the letter 'x', 'k' \n",
        "# as \"symbol\" or \"variable\" in Calculus\n",
        "\n",
        "x, k= sm.symbols('x, k')\n",
        "\n",
        "# power function, x to power k (k-th power)\n",
        "x**k\n",
        "\n",
        "# differentiate, derivative\n",
        "(x**k).diff(x)\n",
        "\n",
        "# simplify\n",
        "(x**k).diff(x).simplify()\n",
        "\n",
        "# exponential\n",
        "sm.exp(x)\n",
        "\n",
        "sm.exp(x).diff(x)\n",
        "\n",
        "# natural log\n",
        "sm.log(x)\n",
        "\n",
        "sm.log(x).diff(x)\n",
        "\n",
        "# sinusoid\n",
        "sm.sin(x)\n",
        "\n",
        "sm.sin(x).diff(x)\n",
        "\n",
        "# co-sinusoid\n",
        "sm.cos(x)\n",
        "\n",
        "sm.cos(x).diff(x)\n",
        "\n",
        "# tangent\n",
        "sm.tan(x)\n",
        "\n",
        "sm.tan(x).diff(x)\n",
        "\n",
        "# arc-sinusoid, inv-sinusoid\n",
        "sm.asin(x)\n",
        "\n",
        "sm.asin(x).diff(x)\n",
        "\n",
        "# arc-co-sinusoid, inv-co-sinusoid\n",
        "sm.acos(x)\n",
        "\n",
        "sm.acos(x).diff(x)\n",
        "\n",
        "# arc-tangent, inv-tangent\n",
        "sm.atan(x)\n",
        "\n",
        "sm.atan(x).diff(x)"
      ]
    },
    {
      "cell_type": "code",
      "execution_count": null,
      "id": "782811c3-3fc9-4d2f-b0b3-854b91cb15e0",
      "metadata": {
        "id": "782811c3-3fc9-4d2f-b0b3-854b91cb15e0"
      },
      "outputs": [],
      "source": [
        "import sympy as sm\n",
        "\n",
        "# set the letter 'x', 'k' \n",
        "# as \"symbol\" or \"variable\" in Calculus\n",
        "\n",
        "x, k= sm.symbols('x, k')"
      ]
    },
    {
      "cell_type": "code",
      "execution_count": null,
      "id": "4e38925e-04ce-40c6-8916-df0c703ddd3d",
      "metadata": {
        "colab": {
          "base_uri": "https://localhost:8080/",
          "height": 39
        },
        "id": "4e38925e-04ce-40c6-8916-df0c703ddd3d",
        "outputId": "593a84be-574d-4b96-9f7a-cb47097f7527"
      },
      "outputs": [
        {
          "output_type": "execute_result",
          "data": {
            "text/latex": "$\\displaystyle x^{k}$",
            "text/plain": [
              "x**k"
            ]
          },
          "metadata": {},
          "execution_count": 3
        }
      ],
      "source": [
        "# power function, x to power k (k-th power)\n",
        "x**k"
      ]
    },
    {
      "cell_type": "code",
      "execution_count": null,
      "id": "28e08b81-f871-4178-86a2-31d16e586662",
      "metadata": {
        "colab": {
          "base_uri": "https://localhost:8080/",
          "height": 55
        },
        "id": "28e08b81-f871-4178-86a2-31d16e586662",
        "outputId": "58c354e6-f465-49c0-89f7-1f4fe1cad45a"
      },
      "outputs": [
        {
          "output_type": "execute_result",
          "data": {
            "text/latex": "$\\displaystyle \\frac{k x^{k}}{x}$",
            "text/plain": [
              "k*x**k/x"
            ]
          },
          "metadata": {},
          "execution_count": 4
        }
      ],
      "source": [
        "# differentiate, derivative\n",
        "(x**k).diff(x)"
      ]
    },
    {
      "cell_type": "code",
      "execution_count": null,
      "id": "a8837b2c-2070-45e0-973c-1aaed20b7180",
      "metadata": {
        "colab": {
          "base_uri": "https://localhost:8080/",
          "height": 39
        },
        "id": "a8837b2c-2070-45e0-973c-1aaed20b7180",
        "outputId": "c1edc06c-ee55-4428-fe02-845c0f717492"
      },
      "outputs": [
        {
          "output_type": "execute_result",
          "data": {
            "text/latex": "$\\displaystyle k x^{k - 1}$",
            "text/plain": [
              "k*x**(k - 1)"
            ]
          },
          "metadata": {},
          "execution_count": 5
        }
      ],
      "source": [
        "# simplify\n",
        "(x**k).diff(x).simplify()"
      ]
    },
    {
      "cell_type": "code",
      "execution_count": null,
      "id": "b942b208-3eee-4e9e-b154-fb047a582d0f",
      "metadata": {
        "colab": {
          "base_uri": "https://localhost:8080/",
          "height": 39
        },
        "id": "b942b208-3eee-4e9e-b154-fb047a582d0f",
        "outputId": "0829a21e-89af-48b8-ee36-010ba78b8acb"
      },
      "outputs": [
        {
          "output_type": "execute_result",
          "data": {
            "text/latex": "$\\displaystyle e^{x}$",
            "text/plain": [
              "exp(x)"
            ]
          },
          "metadata": {},
          "execution_count": 6
        }
      ],
      "source": [
        "# exponential\n",
        "sm.exp(x)"
      ]
    },
    {
      "cell_type": "code",
      "execution_count": null,
      "id": "7d7b6dcc-8441-4278-83d5-2cb49be41cc4",
      "metadata": {
        "colab": {
          "base_uri": "https://localhost:8080/",
          "height": 39
        },
        "id": "7d7b6dcc-8441-4278-83d5-2cb49be41cc4",
        "outputId": "388c3360-c9b1-4641-9cca-ba7b03995443"
      },
      "outputs": [
        {
          "output_type": "execute_result",
          "data": {
            "text/latex": "$\\displaystyle e^{x}$",
            "text/plain": [
              "exp(x)"
            ]
          },
          "metadata": {},
          "execution_count": 7
        }
      ],
      "source": [
        "sm.exp(x).diff(x)"
      ]
    },
    {
      "cell_type": "code",
      "execution_count": null,
      "id": "b2e21af6-2020-444d-bfc8-0f4b2919f536",
      "metadata": {
        "colab": {
          "base_uri": "https://localhost:8080/",
          "height": 39
        },
        "id": "b2e21af6-2020-444d-bfc8-0f4b2919f536",
        "outputId": "98c8c835-e040-4311-f5f7-9e05e5037e5e"
      },
      "outputs": [
        {
          "output_type": "execute_result",
          "data": {
            "text/latex": "$\\displaystyle \\log{\\left(x \\right)}$",
            "text/plain": [
              "log(x)"
            ]
          },
          "metadata": {},
          "execution_count": 8
        }
      ],
      "source": [
        "# natural log\n",
        "sm.log(x)"
      ]
    },
    {
      "cell_type": "code",
      "execution_count": null,
      "id": "a23a9689-ab90-4a81-8eda-e4574b25f77f",
      "metadata": {
        "colab": {
          "base_uri": "https://localhost:8080/",
          "height": 51
        },
        "id": "a23a9689-ab90-4a81-8eda-e4574b25f77f",
        "outputId": "72e8f7a3-46cd-497d-f21d-79b4a36d8fb2"
      },
      "outputs": [
        {
          "output_type": "execute_result",
          "data": {
            "text/latex": "$\\displaystyle \\frac{1}{x}$",
            "text/plain": [
              "1/x"
            ]
          },
          "metadata": {},
          "execution_count": 9
        }
      ],
      "source": [
        "sm.log(x).diff(x)"
      ]
    },
    {
      "cell_type": "code",
      "execution_count": null,
      "id": "6f224dc3-6e16-42be-9829-5c849b60d628",
      "metadata": {
        "colab": {
          "base_uri": "https://localhost:8080/",
          "height": 39
        },
        "id": "6f224dc3-6e16-42be-9829-5c849b60d628",
        "outputId": "08f099f0-e40b-4cf4-d769-868aaedaf01f"
      },
      "outputs": [
        {
          "output_type": "execute_result",
          "data": {
            "text/latex": "$\\displaystyle \\sin{\\left(x \\right)}$",
            "text/plain": [
              "sin(x)"
            ]
          },
          "metadata": {},
          "execution_count": 10
        }
      ],
      "source": [
        "# sinusoid\n",
        "sm.sin(x)"
      ]
    },
    {
      "cell_type": "code",
      "execution_count": null,
      "id": "b4f11d9a-5a4b-40cd-9481-ef5e59f96a66",
      "metadata": {
        "colab": {
          "base_uri": "https://localhost:8080/",
          "height": 39
        },
        "id": "b4f11d9a-5a4b-40cd-9481-ef5e59f96a66",
        "outputId": "a593c499-b474-40e5-bd80-c0153105989d"
      },
      "outputs": [
        {
          "output_type": "execute_result",
          "data": {
            "text/latex": "$\\displaystyle \\cos{\\left(x \\right)}$",
            "text/plain": [
              "cos(x)"
            ]
          },
          "metadata": {},
          "execution_count": 11
        }
      ],
      "source": [
        "sm.sin(x).diff(x)"
      ]
    },
    {
      "cell_type": "code",
      "execution_count": null,
      "id": "f9c573c2-75c4-45b5-8d08-2eb085d62a8a",
      "metadata": {
        "colab": {
          "base_uri": "https://localhost:8080/",
          "height": 39
        },
        "id": "f9c573c2-75c4-45b5-8d08-2eb085d62a8a",
        "outputId": "2a659b22-2781-4cb1-e486-b2e3dfbb416a"
      },
      "outputs": [
        {
          "output_type": "execute_result",
          "data": {
            "text/latex": "$\\displaystyle \\cos{\\left(x \\right)}$",
            "text/plain": [
              "cos(x)"
            ]
          },
          "metadata": {},
          "execution_count": 12
        }
      ],
      "source": [
        "# co-sinusoid\n",
        "sm.cos(x)"
      ]
    },
    {
      "cell_type": "code",
      "execution_count": null,
      "id": "065d1077-4e59-4345-a50b-aceefd591085",
      "metadata": {
        "colab": {
          "base_uri": "https://localhost:8080/",
          "height": 39
        },
        "id": "065d1077-4e59-4345-a50b-aceefd591085",
        "outputId": "40f63757-7647-4731-e291-dd18440b8b03"
      },
      "outputs": [
        {
          "output_type": "execute_result",
          "data": {
            "text/latex": "$\\displaystyle - \\sin{\\left(x \\right)}$",
            "text/plain": [
              "-sin(x)"
            ]
          },
          "metadata": {},
          "execution_count": 13
        }
      ],
      "source": [
        "sm.cos(x).diff(x)"
      ]
    },
    {
      "cell_type": "code",
      "execution_count": null,
      "id": "4164e302-a42c-4aa3-8af9-2409e483523f",
      "metadata": {
        "colab": {
          "base_uri": "https://localhost:8080/",
          "height": 39
        },
        "id": "4164e302-a42c-4aa3-8af9-2409e483523f",
        "outputId": "9e32dc23-3960-4006-95f4-66b03f9bceee"
      },
      "outputs": [
        {
          "output_type": "execute_result",
          "data": {
            "text/latex": "$\\displaystyle \\tan{\\left(x \\right)}$",
            "text/plain": [
              "tan(x)"
            ]
          },
          "metadata": {},
          "execution_count": 14
        }
      ],
      "source": [
        "# tangent\n",
        "sm.tan(x)"
      ]
    },
    {
      "cell_type": "code",
      "execution_count": null,
      "id": "42f93f7f-4cd6-430e-8fce-f3360e89f06c",
      "metadata": {
        "colab": {
          "base_uri": "https://localhost:8080/",
          "height": 39
        },
        "id": "42f93f7f-4cd6-430e-8fce-f3360e89f06c",
        "outputId": "7a6846c2-9a77-4dd7-b559-c1f4de8dc1c9"
      },
      "outputs": [
        {
          "output_type": "execute_result",
          "data": {
            "text/latex": "$\\displaystyle \\tan^{2}{\\left(x \\right)} + 1$",
            "text/plain": [
              "tan(x)**2 + 1"
            ]
          },
          "metadata": {},
          "execution_count": 15
        }
      ],
      "source": [
        "sm.tan(x).diff(x)"
      ]
    },
    {
      "cell_type": "code",
      "execution_count": null,
      "id": "453c5f36-2928-4fa9-905b-d72290f9cd85",
      "metadata": {
        "colab": {
          "base_uri": "https://localhost:8080/",
          "height": 39
        },
        "id": "453c5f36-2928-4fa9-905b-d72290f9cd85",
        "outputId": "e4b2adc9-cec6-4add-ef03-cfe57d73083c"
      },
      "outputs": [
        {
          "output_type": "execute_result",
          "data": {
            "text/latex": "$\\displaystyle \\operatorname{asin}{\\left(x \\right)}$",
            "text/plain": [
              "asin(x)"
            ]
          },
          "metadata": {},
          "execution_count": 16
        }
      ],
      "source": [
        "# arc-sinusoid, inv-sinusoid\n",
        "sm.asin(x)"
      ]
    },
    {
      "cell_type": "code",
      "execution_count": null,
      "id": "771dbfa5-e152-4819-9eb7-3b2819442659",
      "metadata": {
        "colab": {
          "base_uri": "https://localhost:8080/",
          "height": 55
        },
        "id": "771dbfa5-e152-4819-9eb7-3b2819442659",
        "outputId": "15613ae9-8bf5-4570-bf51-85e939ab183f"
      },
      "outputs": [
        {
          "output_type": "execute_result",
          "data": {
            "text/latex": "$\\displaystyle \\frac{1}{\\sqrt{1 - x^{2}}}$",
            "text/plain": [
              "1/sqrt(1 - x**2)"
            ]
          },
          "metadata": {},
          "execution_count": 17
        }
      ],
      "source": [
        "sm.asin(x).diff(x)"
      ]
    },
    {
      "cell_type": "code",
      "execution_count": null,
      "id": "d742899a-1a95-4f4b-8dbb-ae0c7fa28932",
      "metadata": {
        "colab": {
          "base_uri": "https://localhost:8080/",
          "height": 39
        },
        "id": "d742899a-1a95-4f4b-8dbb-ae0c7fa28932",
        "outputId": "0e368036-9d3b-4afa-fd88-5e2a198559c0"
      },
      "outputs": [
        {
          "output_type": "execute_result",
          "data": {
            "text/latex": "$\\displaystyle \\operatorname{acos}{\\left(x \\right)}$",
            "text/plain": [
              "acos(x)"
            ]
          },
          "metadata": {},
          "execution_count": 18
        }
      ],
      "source": [
        "# arc-co-sinusoid, inv-co-sinusoid\n",
        "sm.acos(x)"
      ]
    },
    {
      "cell_type": "code",
      "execution_count": null,
      "id": "fdb31d32-9a0c-46a6-8934-656d07a360a7",
      "metadata": {
        "colab": {
          "base_uri": "https://localhost:8080/",
          "height": 55
        },
        "id": "fdb31d32-9a0c-46a6-8934-656d07a360a7",
        "outputId": "2b1015a5-4493-44ea-a600-c07829272cc3"
      },
      "outputs": [
        {
          "output_type": "execute_result",
          "data": {
            "text/latex": "$\\displaystyle - \\frac{1}{\\sqrt{1 - x^{2}}}$",
            "text/plain": [
              "-1/sqrt(1 - x**2)"
            ]
          },
          "metadata": {},
          "execution_count": 19
        }
      ],
      "source": [
        "sm.acos(x).diff(x)"
      ]
    },
    {
      "cell_type": "code",
      "execution_count": null,
      "id": "cffe2a9e-582b-44a2-a3e8-4a8a9cd8446b",
      "metadata": {
        "colab": {
          "base_uri": "https://localhost:8080/",
          "height": 39
        },
        "id": "cffe2a9e-582b-44a2-a3e8-4a8a9cd8446b",
        "outputId": "f746ba4c-c0ae-4cfd-8842-a0c527c6ffb3"
      },
      "outputs": [
        {
          "output_type": "execute_result",
          "data": {
            "text/latex": "$\\displaystyle \\operatorname{atan}{\\left(x \\right)}$",
            "text/plain": [
              "atan(x)"
            ]
          },
          "metadata": {},
          "execution_count": 20
        }
      ],
      "source": [
        "# arc-tangent, inv-tangent\n",
        "sm.atan(x)"
      ]
    },
    {
      "cell_type": "code",
      "execution_count": null,
      "id": "a17a6961-efc4-49c3-81a0-ffd165d4b1c5",
      "metadata": {
        "colab": {
          "base_uri": "https://localhost:8080/",
          "height": 53
        },
        "id": "a17a6961-efc4-49c3-81a0-ffd165d4b1c5",
        "outputId": "7d59626e-683c-487a-c62e-2cf27356b583"
      },
      "outputs": [
        {
          "output_type": "execute_result",
          "data": {
            "text/latex": "$\\displaystyle \\frac{1}{x^{2} + 1}$",
            "text/plain": [
              "1/(x**2 + 1)"
            ]
          },
          "metadata": {},
          "execution_count": 21
        }
      ],
      "source": [
        "sm.atan(x).diff(x)"
      ]
    },
    {
      "cell_type": "code",
      "execution_count": null,
      "id": "f5aad62d-f320-4def-8d97-f09691d9d4fe",
      "metadata": {
        "id": "f5aad62d-f320-4def-8d97-f09691d9d4fe"
      },
      "outputs": [],
      "source": [
        ""
      ]
    },
    {
      "cell_type": "code",
      "execution_count": null,
      "id": "a4dada8b-319a-49a2-9866-b15d5cc758c2",
      "metadata": {
        "id": "a4dada8b-319a-49a2-9866-b15d5cc758c2"
      },
      "outputs": [],
      "source": [
        ""
      ]
    },
    {
      "cell_type": "code",
      "execution_count": null,
      "id": "85d14c12-f0fd-4330-a476-261d6b4bc864",
      "metadata": {
        "id": "85d14c12-f0fd-4330-a476-261d6b4bc864"
      },
      "outputs": [],
      "source": [
        ""
      ]
    },
    {
      "cell_type": "code",
      "execution_count": null,
      "id": "eb0556cd-a144-4918-9afa-ed57ee4b6bde",
      "metadata": {
        "id": "eb0556cd-a144-4918-9afa-ed57ee4b6bde"
      },
      "outputs": [],
      "source": [
        "def f(x):\n",
        "    f= x**2\n",
        "    return f\n",
        "\n",
        "def g(x):\n",
        "    g= sm.log(x)\n",
        "    return g"
      ]
    },
    {
      "cell_type": "code",
      "execution_count": null,
      "id": "c6427255-3408-4f4b-98b8-2d55b6182598",
      "metadata": {
        "colab": {
          "base_uri": "https://localhost:8080/",
          "height": 39
        },
        "id": "c6427255-3408-4f4b-98b8-2d55b6182598",
        "outputId": "ba1f4d8c-a908-4792-d849-14ab5fd82dc7"
      },
      "outputs": [
        {
          "output_type": "execute_result",
          "data": {
            "text/latex": "$\\displaystyle x^{2}$",
            "text/plain": [
              "x**2"
            ]
          },
          "metadata": {},
          "execution_count": 23
        }
      ],
      "source": [
        "f(x)"
      ]
    },
    {
      "cell_type": "code",
      "execution_count": null,
      "id": "ff3f0ce3-a04c-48fa-9a1f-3f204583c740",
      "metadata": {
        "colab": {
          "base_uri": "https://localhost:8080/",
          "height": 39
        },
        "id": "ff3f0ce3-a04c-48fa-9a1f-3f204583c740",
        "outputId": "2839c52e-1fd6-4cac-efdc-f7d287d801dd"
      },
      "outputs": [
        {
          "output_type": "execute_result",
          "data": {
            "text/latex": "$\\displaystyle \\log{\\left(x \\right)}$",
            "text/plain": [
              "log(x)"
            ]
          },
          "metadata": {},
          "execution_count": 24
        }
      ],
      "source": [
        "g(x)"
      ]
    },
    {
      "cell_type": "code",
      "execution_count": null,
      "id": "fc2e26d8-31d2-4568-b40d-3e19c8a98a7a",
      "metadata": {
        "colab": {
          "base_uri": "https://localhost:8080/",
          "height": 39
        },
        "id": "fc2e26d8-31d2-4568-b40d-3e19c8a98a7a",
        "outputId": "043d7c6e-52b2-4623-f761-176381a358a2"
      },
      "outputs": [
        {
          "output_type": "execute_result",
          "data": {
            "text/latex": "$\\displaystyle x^{2} \\log{\\left(x \\right)}$",
            "text/plain": [
              "x**2*log(x)"
            ]
          },
          "metadata": {},
          "execution_count": 25
        }
      ],
      "source": [
        "y= f(x)*g(x)\n",
        "y"
      ]
    },
    {
      "cell_type": "code",
      "execution_count": null,
      "id": "5e103a4c-a85e-435c-9ac3-8697aad2e0f5",
      "metadata": {
        "colab": {
          "base_uri": "https://localhost:8080/",
          "height": 39
        },
        "id": "5e103a4c-a85e-435c-9ac3-8697aad2e0f5",
        "outputId": "5e938ebe-3bd4-4158-cc48-3f28c9a861de"
      },
      "outputs": [
        {
          "output_type": "execute_result",
          "data": {
            "text/latex": "$\\displaystyle 2 x \\log{\\left(x \\right)} + x$",
            "text/plain": [
              "2*x*log(x) + x"
            ]
          },
          "metadata": {},
          "execution_count": 26
        }
      ],
      "source": [
        "y.diff(x)"
      ]
    },
    {
      "cell_type": "code",
      "execution_count": null,
      "id": "bc7c4bb3-f4dd-4f53-97fe-e1aa159edf7a",
      "metadata": {
        "colab": {
          "base_uri": "https://localhost:8080/",
          "height": 58
        },
        "id": "bc7c4bb3-f4dd-4f53-97fe-e1aa159edf7a",
        "outputId": "058a1d43-795a-4a6b-8f81-33558de27a4c"
      },
      "outputs": [
        {
          "output_type": "execute_result",
          "data": {
            "text/latex": "$\\displaystyle \\frac{x^{2}}{\\log{\\left(x \\right)}}$",
            "text/plain": [
              "x**2/log(x)"
            ]
          },
          "metadata": {},
          "execution_count": 27
        }
      ],
      "source": [
        "y= f(x)/g(x)\n",
        "y"
      ]
    },
    {
      "cell_type": "code",
      "execution_count": null,
      "id": "aa3c462c-4860-406e-bbae-923fbaa3d5ba",
      "metadata": {
        "colab": {
          "base_uri": "https://localhost:8080/",
          "height": 58
        },
        "id": "aa3c462c-4860-406e-bbae-923fbaa3d5ba",
        "outputId": "8409d200-42e4-49f5-f8e5-51dbfb39ccdf"
      },
      "outputs": [
        {
          "output_type": "execute_result",
          "data": {
            "text/latex": "$\\displaystyle \\frac{2 x}{\\log{\\left(x \\right)}} - \\frac{x}{\\log{\\left(x \\right)}^{2}}$",
            "text/plain": [
              "2*x/log(x) - x/log(x)**2"
            ]
          },
          "metadata": {},
          "execution_count": 28
        }
      ],
      "source": [
        "y.diff(x)"
      ]
    },
    {
      "cell_type": "code",
      "execution_count": null,
      "id": "63a7841a-7c12-4a78-a611-dcf788d34d98",
      "metadata": {
        "colab": {
          "base_uri": "https://localhost:8080/",
          "height": 60
        },
        "id": "63a7841a-7c12-4a78-a611-dcf788d34d98",
        "outputId": "3603ad86-a522-4a83-80c8-ef9eaf6ea239"
      },
      "outputs": [
        {
          "output_type": "execute_result",
          "data": {
            "text/latex": "$\\displaystyle \\frac{x \\left(2 \\log{\\left(x \\right)} - 1\\right)}{\\log{\\left(x \\right)}^{2}}$",
            "text/plain": [
              "x*(2*log(x) - 1)/log(x)**2"
            ]
          },
          "metadata": {},
          "execution_count": 29
        }
      ],
      "source": [
        "y.diff(x).simplify()"
      ]
    },
    {
      "cell_type": "code",
      "execution_count": null,
      "id": "6c9d0e46-d6fd-4286-ae3b-7604fad7b0fb",
      "metadata": {
        "colab": {
          "base_uri": "https://localhost:8080/",
          "height": 39
        },
        "id": "6c9d0e46-d6fd-4286-ae3b-7604fad7b0fb",
        "outputId": "5a10efe2-9f37-44d0-c97b-5817284be738"
      },
      "outputs": [
        {
          "output_type": "execute_result",
          "data": {
            "text/latex": "$\\displaystyle \\log{\\left(x \\right)}^{2}$",
            "text/plain": [
              "log(x)**2"
            ]
          },
          "metadata": {},
          "execution_count": 30
        }
      ],
      "source": [
        "y= f(g(x))\n",
        "y"
      ]
    },
    {
      "cell_type": "code",
      "execution_count": null,
      "id": "b69a1726-5016-4a25-b962-f966684561ab",
      "metadata": {
        "colab": {
          "base_uri": "https://localhost:8080/",
          "height": 53
        },
        "id": "b69a1726-5016-4a25-b962-f966684561ab",
        "outputId": "2c588275-378d-4847-a1ce-39e15b69e3ad"
      },
      "outputs": [
        {
          "output_type": "execute_result",
          "data": {
            "text/latex": "$\\displaystyle \\frac{2 \\log{\\left(x \\right)}}{x}$",
            "text/plain": [
              "2*log(x)/x"
            ]
          },
          "metadata": {},
          "execution_count": 31
        }
      ],
      "source": [
        "y.diff(x)"
      ]
    },
    {
      "cell_type": "code",
      "execution_count": null,
      "id": "84119b92-c63a-494d-b530-ac1465a7bdba",
      "metadata": {
        "id": "84119b92-c63a-494d-b530-ac1465a7bdba"
      },
      "outputs": [],
      "source": [
        ""
      ]
    },
    {
      "cell_type": "code",
      "execution_count": null,
      "id": "975a067e-e541-4408-8fdf-74e3a4a7e688",
      "metadata": {
        "colab": {
          "base_uri": "https://localhost:8080/",
          "height": 53
        },
        "id": "975a067e-e541-4408-8fdf-74e3a4a7e688",
        "outputId": "23b42172-62c7-4a8c-a787-2b8f127d0266"
      },
      "outputs": [
        {
          "output_type": "execute_result",
          "data": {
            "text/latex": "$\\displaystyle \\frac{2 \\log{\\left(x \\right)}}{x}$",
            "text/plain": [
              "2*log(x)/x"
            ]
          },
          "metadata": {},
          "execution_count": 32
        }
      ],
      "source": [
        "def f(x):\n",
        "    f= x**2\n",
        "    return f\n",
        "\n",
        "def g(x):\n",
        "    g= sm.log(x)\n",
        "    return g\n",
        "\n",
        "f(x)\n",
        "g(x)\n",
        "y= f(x)*g(x)\n",
        "\n",
        "y.diff(x)\n",
        "y= f(x)/g(x)\n",
        "\n",
        "\n",
        "y.diff(x)\n",
        "y.diff(x).simplify()\n",
        "\n",
        "y= f(g(x))\n",
        "y.diff(x)"
      ]
    },
    {
      "cell_type": "code",
      "execution_count": null,
      "id": "d27ee8c9-0a29-4f5e-80ba-77502c98748e",
      "metadata": {
        "id": "d27ee8c9-0a29-4f5e-80ba-77502c98748e"
      },
      "outputs": [],
      "source": [
        ""
      ]
    },
    {
      "cell_type": "code",
      "execution_count": null,
      "id": "2e2a0d17-c9d2-41f8-b668-ba624bd41609",
      "metadata": {
        "id": "2e2a0d17-c9d2-41f8-b668-ba624bd41609"
      },
      "outputs": [],
      "source": [
        ""
      ]
    },
    {
      "cell_type": "code",
      "execution_count": null,
      "id": "2335036d-9483-4f97-aef7-79c122a5872d",
      "metadata": {
        "id": "2335036d-9483-4f97-aef7-79c122a5872d"
      },
      "outputs": [],
      "source": [
        ""
      ]
    },
    {
      "cell_type": "code",
      "execution_count": null,
      "id": "bc6134a9-3a6d-4b81-b1e8-99b6eee11bad",
      "metadata": {
        "colab": {
          "base_uri": "https://localhost:8080/",
          "height": 39
        },
        "id": "bc6134a9-3a6d-4b81-b1e8-99b6eee11bad",
        "outputId": "9267d941-fad9-4872-cca1-11a65668160a"
      },
      "outputs": [
        {
          "output_type": "execute_result",
          "data": {
            "text/latex": "$\\displaystyle x^{k}$",
            "text/plain": [
              "x**k"
            ]
          },
          "metadata": {},
          "execution_count": 33
        }
      ],
      "source": [
        "x, k= sm.symbols('x, k')\n",
        "y= x**k\n",
        "y"
      ]
    },
    {
      "cell_type": "code",
      "execution_count": null,
      "id": "c63e73c8-755f-4640-9625-674ee3a38832",
      "metadata": {
        "colab": {
          "base_uri": "https://localhost:8080/",
          "height": 68
        },
        "id": "c63e73c8-755f-4640-9625-674ee3a38832",
        "outputId": "413c4e1d-73f3-4970-9160-ec659f5bbb4b"
      },
      "outputs": [
        {
          "output_type": "execute_result",
          "data": {
            "text/latex": "$\\displaystyle \\begin{cases} \\frac{x^{k + 1}}{k + 1} & \\text{for}\\: k \\neq -1 \\\\\\log{\\left(x \\right)} & \\text{otherwise} \\end{cases}$",
            "text/plain": [
              "Piecewise((x**(k + 1)/(k + 1), Ne(k, -1)), (log(x), True))"
            ]
          },
          "metadata": {},
          "execution_count": 34
        }
      ],
      "source": [
        "y.integrate(x)"
      ]
    },
    {
      "cell_type": "code",
      "execution_count": null,
      "id": "8e168f77-40bb-4bd9-af3f-b3603ddaab63",
      "metadata": {
        "colab": {
          "base_uri": "https://localhost:8080/",
          "height": 39
        },
        "id": "8e168f77-40bb-4bd9-af3f-b3603ddaab63",
        "outputId": "67771d95-46c9-4bf0-b947-e5d84fa0e93c"
      },
      "outputs": [
        {
          "output_type": "execute_result",
          "data": {
            "text/latex": "$\\displaystyle \\log{\\left(x \\right)}$",
            "text/plain": [
              "log(x)"
            ]
          },
          "metadata": {},
          "execution_count": 35
        }
      ],
      "source": [
        "y= 1/x\n",
        "y.integrate(x) # c.f. log(|x|)"
      ]
    },
    {
      "cell_type": "code",
      "execution_count": null,
      "id": "111ceeb9-3dc2-4676-9131-6cb5b875cfac",
      "metadata": {
        "colab": {
          "base_uri": "https://localhost:8080/",
          "height": 39
        },
        "id": "111ceeb9-3dc2-4676-9131-6cb5b875cfac",
        "outputId": "202bf93f-c52a-482a-f563-a690ce40d3a2"
      },
      "outputs": [
        {
          "output_type": "execute_result",
          "data": {
            "text/latex": "$\\displaystyle e^{x}$",
            "text/plain": [
              "exp(x)"
            ]
          },
          "metadata": {},
          "execution_count": 36
        }
      ],
      "source": [
        "y= sm.exp(x)\n",
        "y.integrate(x)"
      ]
    },
    {
      "cell_type": "code",
      "execution_count": null,
      "id": "7ccfc7f7-569a-4df5-bcdb-1e46ae96192b",
      "metadata": {
        "colab": {
          "base_uri": "https://localhost:8080/",
          "height": 39
        },
        "id": "7ccfc7f7-569a-4df5-bcdb-1e46ae96192b",
        "outputId": "2f53fd55-3c9a-4853-bb65-b7be6c8ab8ba"
      },
      "outputs": [
        {
          "output_type": "execute_result",
          "data": {
            "text/latex": "$\\displaystyle - \\cos{\\left(x \\right)}$",
            "text/plain": [
              "-cos(x)"
            ]
          },
          "metadata": {},
          "execution_count": 37
        }
      ],
      "source": [
        "y= sm.sin(x)\n",
        "y.integrate(x)"
      ]
    },
    {
      "cell_type": "code",
      "execution_count": null,
      "id": "f56350da-4810-448f-97d7-36747fb2b052",
      "metadata": {
        "colab": {
          "base_uri": "https://localhost:8080/",
          "height": 39
        },
        "id": "f56350da-4810-448f-97d7-36747fb2b052",
        "outputId": "68d6c6a1-5204-47f0-a018-52b56465fcef"
      },
      "outputs": [
        {
          "output_type": "execute_result",
          "data": {
            "text/latex": "$\\displaystyle \\sin{\\left(x \\right)}$",
            "text/plain": [
              "sin(x)"
            ]
          },
          "metadata": {},
          "execution_count": 38
        }
      ],
      "source": [
        "y= sm.cos(x)\n",
        "y.integrate(x)"
      ]
    },
    {
      "cell_type": "code",
      "execution_count": null,
      "id": "26e203ea-3c71-46c2-bac0-37d21f3053a5",
      "metadata": {
        "colab": {
          "base_uri": "https://localhost:8080/",
          "height": 39
        },
        "id": "26e203ea-3c71-46c2-bac0-37d21f3053a5",
        "outputId": "8c2e1013-91b4-4928-e725-ce2f63b0a156"
      },
      "outputs": [
        {
          "output_type": "execute_result",
          "data": {
            "text/latex": "$\\displaystyle - \\log{\\left(\\cos{\\left(x \\right)} \\right)}$",
            "text/plain": [
              "-log(cos(x))"
            ]
          },
          "metadata": {},
          "execution_count": 39
        }
      ],
      "source": [
        "y= sm.tan(x)\n",
        "y.integrate(x)"
      ]
    },
    {
      "cell_type": "code",
      "execution_count": null,
      "id": "da26e6a2-d8a7-47f8-b94b-e95352bf24ed",
      "metadata": {
        "colab": {
          "base_uri": "https://localhost:8080/",
          "height": 39
        },
        "id": "da26e6a2-d8a7-47f8-b94b-e95352bf24ed",
        "outputId": "b2cb8c35-9e59-425e-e5b7-fd4351447fc2"
      },
      "outputs": [
        {
          "output_type": "execute_result",
          "data": {
            "text/latex": "$\\displaystyle \\operatorname{atan}{\\left(x \\right)}$",
            "text/plain": [
              "atan(x)"
            ]
          },
          "metadata": {},
          "execution_count": 40
        }
      ],
      "source": [
        "y= 1/(1+x**2)\n",
        "y.integrate(x)"
      ]
    },
    {
      "cell_type": "code",
      "execution_count": null,
      "id": "a1b5de1d-f9fa-466e-9326-4aa1ee5c3bc4",
      "metadata": {
        "id": "a1b5de1d-f9fa-466e-9326-4aa1ee5c3bc4"
      },
      "outputs": [],
      "source": [
        ""
      ]
    },
    {
      "cell_type": "code",
      "execution_count": null,
      "id": "08e80a51-94d0-4d12-b950-c99ba50a327f",
      "metadata": {
        "id": "08e80a51-94d0-4d12-b950-c99ba50a327f"
      },
      "outputs": [],
      "source": [
        ""
      ]
    },
    {
      "cell_type": "code",
      "execution_count": null,
      "id": "860392eb-ca61-472a-a939-ccf71db6bba8",
      "metadata": {
        "colab": {
          "base_uri": "https://localhost:8080/",
          "height": 55
        },
        "id": "860392eb-ca61-472a-a939-ccf71db6bba8",
        "outputId": "ecf46373-70a7-4bc8-cf77-5972536c1716"
      },
      "outputs": [
        {
          "output_type": "execute_result",
          "data": {
            "text/latex": "$\\displaystyle \\frac{1}{\\sqrt{1 - x^{2}}}$",
            "text/plain": [
              "1/sqrt(1 - x**2)"
            ]
          },
          "metadata": {},
          "execution_count": 41
        }
      ],
      "source": [
        "y=1/sm.sqrt(1-x**2)\n",
        "y"
      ]
    },
    {
      "cell_type": "code",
      "execution_count": null,
      "id": "9b02746d-69d0-4cff-a2c6-18af07740339",
      "metadata": {
        "colab": {
          "base_uri": "https://localhost:8080/",
          "height": 39
        },
        "id": "9b02746d-69d0-4cff-a2c6-18af07740339",
        "outputId": "e6f6f747-5451-45c5-9c61-05b91c1727ea"
      },
      "outputs": [
        {
          "output_type": "execute_result",
          "data": {
            "text/latex": "$\\displaystyle \\operatorname{asin}{\\left(x \\right)}$",
            "text/plain": [
              "asin(x)"
            ]
          },
          "metadata": {},
          "execution_count": 42
        }
      ],
      "source": [
        "y.integrate(x)"
      ]
    },
    {
      "cell_type": "code",
      "execution_count": null,
      "id": "577ac8b7-65c7-40c8-9e9f-c2cfce0ba97a",
      "metadata": {
        "colab": {
          "base_uri": "https://localhost:8080/",
          "height": 55
        },
        "id": "577ac8b7-65c7-40c8-9e9f-c2cfce0ba97a",
        "outputId": "5967398b-53fb-49ac-a6ce-b75be0fed0c7"
      },
      "outputs": [
        {
          "output_type": "execute_result",
          "data": {
            "text/latex": "$\\displaystyle - \\frac{1}{\\sqrt{1 - x^{2}}}$",
            "text/plain": [
              "-1/sqrt(1 - x**2)"
            ]
          },
          "metadata": {},
          "execution_count": 43
        }
      ],
      "source": [
        "y=-1/sm.sqrt(1-x**2)\n",
        "y"
      ]
    },
    {
      "cell_type": "code",
      "execution_count": null,
      "id": "05eac25d-73f3-4239-af4b-da162dd62889",
      "metadata": {
        "colab": {
          "base_uri": "https://localhost:8080/",
          "height": 39
        },
        "id": "05eac25d-73f3-4239-af4b-da162dd62889",
        "outputId": "b21e74ad-d8e6-45a4-80d2-d02395896f7f"
      },
      "outputs": [
        {
          "output_type": "execute_result",
          "data": {
            "text/latex": "$\\displaystyle - \\operatorname{asin}{\\left(x \\right)}$",
            "text/plain": [
              "-asin(x)"
            ]
          },
          "metadata": {},
          "execution_count": 44
        }
      ],
      "source": [
        "y.integrate(x)"
      ]
    },
    {
      "cell_type": "code",
      "execution_count": null,
      "id": "3fc7b837-baa3-4086-8023-8ab2e4c7c3f0",
      "metadata": {
        "colab": {
          "base_uri": "https://localhost:8080/",
          "height": 55
        },
        "id": "3fc7b837-baa3-4086-8023-8ab2e4c7c3f0",
        "outputId": "c57c48d2-5533-44f2-fbb9-eaea46e7f8c2"
      },
      "outputs": [
        {
          "output_type": "execute_result",
          "data": {
            "text/latex": "$\\displaystyle - \\frac{1}{\\sqrt{1 - x^{2}}}$",
            "text/plain": [
              "-1/sqrt(1 - x**2)"
            ]
          },
          "metadata": {},
          "execution_count": 45
        }
      ],
      "source": [
        "sm.acos(x).diff(x)"
      ]
    },
    {
      "cell_type": "code",
      "execution_count": null,
      "id": "3d31f200-c5e2-4895-8f92-9845932c4b80",
      "metadata": {
        "id": "3d31f200-c5e2-4895-8f92-9845932c4b80"
      },
      "outputs": [],
      "source": [
        ""
      ]
    },
    {
      "cell_type": "code",
      "execution_count": null,
      "id": "bd343a26-216d-4285-9bf4-4af27f65de71",
      "metadata": {
        "id": "bd343a26-216d-4285-9bf4-4af27f65de71"
      },
      "outputs": [],
      "source": [
        ""
      ]
    },
    {
      "cell_type": "code",
      "execution_count": null,
      "id": "8c3a5d38-dbb6-4102-96dd-5124c0be7b71",
      "metadata": {
        "colab": {
          "base_uri": "https://localhost:8080/",
          "height": 39
        },
        "id": "8c3a5d38-dbb6-4102-96dd-5124c0be7b71",
        "outputId": "3aec55b5-78ff-4ecb-b11c-0ea4e98fd446"
      },
      "outputs": [
        {
          "output_type": "execute_result",
          "data": {
            "text/latex": "$\\displaystyle x e^{2 x}$",
            "text/plain": [
              "x*exp(2*x)"
            ]
          },
          "metadata": {},
          "execution_count": 46
        }
      ],
      "source": [
        "y= x* sm.exp(2*x)\n",
        "y"
      ]
    },
    {
      "cell_type": "code",
      "execution_count": null,
      "id": "518b66a5-9384-48a6-a718-c1cde1d9cc70",
      "metadata": {
        "colab": {
          "base_uri": "https://localhost:8080/",
          "height": 54
        },
        "id": "518b66a5-9384-48a6-a718-c1cde1d9cc70",
        "outputId": "53ce03ab-e714-4fba-fd04-f2f7d4e9ecc4"
      },
      "outputs": [
        {
          "output_type": "execute_result",
          "data": {
            "text/latex": "$\\displaystyle \\frac{\\left(2 x - 1\\right) e^{2 x}}{4}$",
            "text/plain": [
              "(2*x - 1)*exp(2*x)/4"
            ]
          },
          "metadata": {},
          "execution_count": 47
        }
      ],
      "source": [
        "y.integrate(x)"
      ]
    },
    {
      "cell_type": "code",
      "execution_count": null,
      "id": "107f08df-6cb9-48ac-aaf1-fed2e64cfd68",
      "metadata": {
        "colab": {
          "base_uri": "https://localhost:8080/",
          "height": 39
        },
        "id": "107f08df-6cb9-48ac-aaf1-fed2e64cfd68",
        "outputId": "3bdf2234-bfc7-438f-b999-a6f60b6c2ce1"
      },
      "outputs": [
        {
          "output_type": "execute_result",
          "data": {
            "text/latex": "$\\displaystyle x^{k} e^{a x}$",
            "text/plain": [
              "x**k*exp(a*x)"
            ]
          },
          "metadata": {},
          "execution_count": 48
        }
      ],
      "source": [
        "x,k,a= sm.symbols('x,k,a')\n",
        "y= x**k * sm.exp(a*x)\n",
        "y"
      ]
    },
    {
      "cell_type": "code",
      "execution_count": null,
      "id": "1b882856-a8f1-47a8-9915-fa350c233ded",
      "metadata": {
        "colab": {
          "base_uri": "https://localhost:8080/",
          "height": 60
        },
        "id": "1b882856-a8f1-47a8-9915-fa350c233ded",
        "outputId": "3fc2bcce-54c8-40d8-d155-83e947526615"
      },
      "outputs": [
        {
          "output_type": "execute_result",
          "data": {
            "text/latex": "$\\displaystyle - \\frac{a^{- k} k e^{- i \\pi k} \\Gamma\\left(k + 1\\right) \\gamma\\left(k + 1, a x e^{i \\pi}\\right)}{a \\Gamma\\left(k + 2\\right)} - \\frac{a^{- k} e^{- i \\pi k} \\Gamma\\left(k + 1\\right) \\gamma\\left(k + 1, a x e^{i \\pi}\\right)}{a \\Gamma\\left(k + 2\\right)}$",
            "text/plain": [
              "-a**(-k)*k*exp(-I*pi*k)*gamma(k + 1)*lowergamma(k + 1, a*x*exp_polar(I*pi))/(a*gamma(k + 2)) - a**(-k)*exp(-I*pi*k)*gamma(k + 1)*lowergamma(k + 1, a*x*exp_polar(I*pi))/(a*gamma(k + 2))"
            ]
          },
          "metadata": {},
          "execution_count": 49
        }
      ],
      "source": [
        "y.integrate(x)"
      ]
    },
    {
      "cell_type": "code",
      "execution_count": null,
      "id": "ecf2d7e6-5bbb-4b67-881b-1defe7e1b4d8",
      "metadata": {
        "colab": {
          "base_uri": "https://localhost:8080/",
          "height": 68
        },
        "id": "ecf2d7e6-5bbb-4b67-881b-1defe7e1b4d8",
        "outputId": "a43b8388-0048-40fc-ee2c-a34dca1f7b8e"
      },
      "outputs": [
        {
          "output_type": "execute_result",
          "data": {
            "text/latex": "$\\displaystyle \\begin{cases} \\frac{\\left(a - 1\\right) e^{a}}{a^{2}} + \\frac{1}{a^{2}} & \\text{for}\\: a > -\\infty \\wedge a < \\infty \\wedge a \\neq 0 \\\\\\frac{1}{2} & \\text{otherwise} \\end{cases}$",
            "text/plain": [
              "Piecewise(((a - 1)*exp(a)/a**2 + a**(-2), (a > -oo) & (a < oo) & Ne(a, 0)), (1/2, True))"
            ]
          },
          "metadata": {},
          "execution_count": 50
        }
      ],
      "source": [
        "y.subs({k:1}).integrate((x,0,1))"
      ]
    },
    {
      "cell_type": "code",
      "execution_count": null,
      "id": "036a60f0-d811-4042-a336-ce18ff658bd8",
      "metadata": {
        "colab": {
          "base_uri": "https://localhost:8080/",
          "height": 39
        },
        "id": "036a60f0-d811-4042-a336-ce18ff658bd8",
        "outputId": "82b0161e-3f9d-46e6-b373-7980f7858cde"
      },
      "outputs": [
        {
          "output_type": "execute_result",
          "data": {
            "text/latex": "$\\displaystyle - \\left(1 - x\\right) e^{x} + 1$",
            "text/plain": [
              "-(1 - x)*exp(x) + 1"
            ]
          },
          "metadata": {},
          "execution_count": 51
        }
      ],
      "source": [
        "y.integrate(x).subs({k:1, a:1})"
      ]
    },
    {
      "cell_type": "code",
      "execution_count": null,
      "id": "3321a52e-01bb-4655-bddb-6e413034197b",
      "metadata": {
        "colab": {
          "base_uri": "https://localhost:8080/",
          "height": 54
        },
        "id": "3321a52e-01bb-4655-bddb-6e413034197b",
        "outputId": "da0d1a6f-7195-4eca-a701-9ac10a03ce68"
      },
      "outputs": [
        {
          "output_type": "execute_result",
          "data": {
            "text/latex": "$\\displaystyle - \\frac{\\left(1 - 2 x\\right) e^{2 x}}{4} + \\frac{1}{4}$",
            "text/plain": [
              "-(1 - 2*x)*exp(2*x)/4 + 1/4"
            ]
          },
          "metadata": {},
          "execution_count": 52
        }
      ],
      "source": [
        "y.integrate(x).subs({k:1, a:2})"
      ]
    },
    {
      "cell_type": "code",
      "execution_count": null,
      "id": "ce5fd220-98fa-4def-bf2e-fe884a738140",
      "metadata": {
        "colab": {
          "base_uri": "https://localhost:8080/",
          "height": 54
        },
        "id": "ce5fd220-98fa-4def-bf2e-fe884a738140",
        "outputId": "b92fc3b1-203f-4fa7-db11-90b2f4ae5f4e"
      },
      "outputs": [
        {
          "output_type": "execute_result",
          "data": {
            "text/latex": "$\\displaystyle - \\frac{\\left(1 - 10 x\\right) e^{10 x}}{100} + \\frac{1}{100}$",
            "text/plain": [
              "-(1 - 10*x)*exp(10*x)/100 + 1/100"
            ]
          },
          "metadata": {},
          "execution_count": 53
        }
      ],
      "source": [
        "y.integrate(x).subs({k:1, a:10})"
      ]
    },
    {
      "cell_type": "code",
      "execution_count": null,
      "id": "45685007-5593-4b8b-8448-a854e02165c1",
      "metadata": {
        "colab": {
          "base_uri": "https://localhost:8080/",
          "height": 53
        },
        "id": "45685007-5593-4b8b-8448-a854e02165c1",
        "outputId": "cfe96fe5-f9da-47a1-8ed6-4da81e227945"
      },
      "outputs": [
        {
          "output_type": "execute_result",
          "data": {
            "text/latex": "$\\displaystyle \\frac{- \\left(- a x + 1\\right) e^{a x} + 1}{a^{2}}$",
            "text/plain": [
              "(-(-a*x + 1)*exp(a*x) + 1)/a**2"
            ]
          },
          "metadata": {},
          "execution_count": 54
        }
      ],
      "source": [
        "y.integrate(x).subs({k:1})"
      ]
    },
    {
      "cell_type": "code",
      "execution_count": null,
      "id": "e722ed06-a6bf-4a0c-b485-4bce3c5712c6",
      "metadata": {
        "colab": {
          "base_uri": "https://localhost:8080/",
          "height": 60
        },
        "id": "e722ed06-a6bf-4a0c-b485-4bce3c5712c6",
        "outputId": "20071a46-1868-4334-9be8-4c74d1ee38dd"
      },
      "outputs": [
        {
          "output_type": "execute_result",
          "data": {
            "text/latex": "$\\displaystyle - \\frac{k e^{- i \\pi k} \\Gamma\\left(k + 1\\right) \\gamma\\left(k + 1, x e^{i \\pi}\\right)}{\\Gamma\\left(k + 2\\right)} - \\frac{e^{- i \\pi k} \\Gamma\\left(k + 1\\right) \\gamma\\left(k + 1, x e^{i \\pi}\\right)}{\\Gamma\\left(k + 2\\right)}$",
            "text/plain": [
              "-k*exp(-I*pi*k)*gamma(k + 1)*lowergamma(k + 1, x*exp_polar(I*pi))/gamma(k + 2) - exp(-I*pi*k)*gamma(k + 1)*lowergamma(k + 1, x*exp_polar(I*pi))/gamma(k + 2)"
            ]
          },
          "metadata": {},
          "execution_count": 55
        }
      ],
      "source": [
        "y.integrate(x).subs({a:1})"
      ]
    },
    {
      "cell_type": "code",
      "execution_count": null,
      "id": "93b16677-10bc-4ddc-a8d2-7e57953b3530",
      "metadata": {
        "colab": {
          "base_uri": "https://localhost:8080/",
          "height": 54
        },
        "id": "93b16677-10bc-4ddc-a8d2-7e57953b3530",
        "outputId": "b96d0cc2-e2b7-4eee-ca44-b5b747f07e4a"
      },
      "outputs": [
        {
          "output_type": "execute_result",
          "data": {
            "text/latex": "$\\displaystyle x - \\frac{x^{3}}{6} + \\frac{x^{5}}{120} - \\frac{x^{7}}{5040} + \\frac{x^{9}}{362880} + O\\left(x^{10}\\right)$",
            "text/plain": [
              "x - x**3/6 + x**5/120 - x**7/5040 + x**9/362880 + O(x**10)"
            ]
          },
          "metadata": {},
          "execution_count": 56
        }
      ],
      "source": [
        "# series expansion\n",
        "sm.series(sm.sin(x), n=10)"
      ]
    },
    {
      "cell_type": "code",
      "execution_count": null,
      "id": "6d53f343-e863-435c-981c-f3a5b25003c5",
      "metadata": {
        "colab": {
          "base_uri": "https://localhost:8080/",
          "height": 54
        },
        "id": "6d53f343-e863-435c-981c-f3a5b25003c5",
        "outputId": "e624f629-06d0-49fa-9ae3-f95f080a331d"
      },
      "outputs": [
        {
          "output_type": "execute_result",
          "data": {
            "text/latex": "$\\displaystyle 1 - \\frac{x^{2}}{2} + \\frac{x^{4}}{24} - \\frac{x^{6}}{720} + \\frac{x^{8}}{40320} + O\\left(x^{10}\\right)$",
            "text/plain": [
              "1 - x**2/2 + x**4/24 - x**6/720 + x**8/40320 + O(x**10)"
            ]
          },
          "metadata": {},
          "execution_count": 57
        }
      ],
      "source": [
        "sm.series(sm.cos(x), n=10)"
      ]
    },
    {
      "cell_type": "code",
      "execution_count": null,
      "id": "55eae264-50cc-4a4c-994b-501f4666396e",
      "metadata": {
        "colab": {
          "base_uri": "https://localhost:8080/",
          "height": 54
        },
        "id": "55eae264-50cc-4a4c-994b-501f4666396e",
        "outputId": "02d5bca2-df9d-4362-88b9-6e1818158b49"
      },
      "outputs": [
        {
          "output_type": "execute_result",
          "data": {
            "text/latex": "$\\displaystyle x + \\frac{x^{3}}{3} + \\frac{2 x^{5}}{15} + \\frac{17 x^{7}}{315} + \\frac{62 x^{9}}{2835} + O\\left(x^{10}\\right)$",
            "text/plain": [
              "x + x**3/3 + 2*x**5/15 + 17*x**7/315 + 62*x**9/2835 + O(x**10)"
            ]
          },
          "metadata": {},
          "execution_count": 58
        }
      ],
      "source": [
        "sm.series(sm.tan(x), n=10)"
      ]
    },
    {
      "cell_type": "code",
      "execution_count": null,
      "id": "31691801-e25b-465d-b282-951bafe2ed15",
      "metadata": {
        "colab": {
          "base_uri": "https://localhost:8080/",
          "height": 54
        },
        "id": "31691801-e25b-465d-b282-951bafe2ed15",
        "outputId": "5eeac38a-aabe-4eaa-c4e1-7b2bf9ad8cab"
      },
      "outputs": [
        {
          "output_type": "execute_result",
          "data": {
            "text/latex": "$\\displaystyle 1 + x + \\frac{x^{2}}{2} + \\frac{x^{3}}{6} + \\frac{x^{4}}{24} + \\frac{x^{5}}{120} + \\frac{x^{6}}{720} + \\frac{x^{7}}{5040} + \\frac{x^{8}}{40320} + \\frac{x^{9}}{362880} + O\\left(x^{10}\\right)$",
            "text/plain": [
              "1 + x + x**2/2 + x**3/6 + x**4/24 + x**5/120 + x**6/720 + x**7/5040 + x**8/40320 + x**9/362880 + O(x**10)"
            ]
          },
          "metadata": {},
          "execution_count": 59
        }
      ],
      "source": [
        "sm.series(sm.exp(x), n=10)"
      ]
    },
    {
      "cell_type": "code",
      "execution_count": null,
      "id": "64bcda77-ae99-4d09-b63e-85cd2edb6980",
      "metadata": {
        "colab": {
          "base_uri": "https://localhost:8080/",
          "height": 39
        },
        "id": "64bcda77-ae99-4d09-b63e-85cd2edb6980",
        "outputId": "5aa5e8f6-d49a-48ef-a241-40e2ad7ab972"
      },
      "outputs": [
        {
          "output_type": "execute_result",
          "data": {
            "text/latex": "$\\displaystyle \\log{\\left(x \\right)}$",
            "text/plain": [
              "log(x)"
            ]
          },
          "metadata": {},
          "execution_count": 60
        }
      ],
      "source": [
        "sm.series(sm.log(x), n=10)"
      ]
    },
    {
      "cell_type": "code",
      "execution_count": null,
      "id": "8fd910cb-ed22-451c-a52c-1821d90cd4f1",
      "metadata": {
        "colab": {
          "base_uri": "https://localhost:8080/",
          "height": 56
        },
        "id": "8fd910cb-ed22-451c-a52c-1821d90cd4f1",
        "outputId": "7e2a1b4b-6711-45c3-e901-282a83a6e547"
      },
      "outputs": [
        {
          "output_type": "execute_result",
          "data": {
            "text/latex": "$\\displaystyle -1 - \\frac{\\left(x - 1\\right)^{2}}{2} + \\frac{\\left(x - 1\\right)^{3}}{3} - \\frac{\\left(x - 1\\right)^{4}}{4} + \\frac{\\left(x - 1\\right)^{5}}{5} - \\frac{\\left(x - 1\\right)^{6}}{6} + \\frac{\\left(x - 1\\right)^{7}}{7} - \\frac{\\left(x - 1\\right)^{8}}{8} + \\frac{\\left(x - 1\\right)^{9}}{9} + x + O\\left(\\left(x - 1\\right)^{10}; x\\rightarrow 1\\right)$",
            "text/plain": [
              "-1 - (x - 1)**2/2 + (x - 1)**3/3 - (x - 1)**4/4 + (x - 1)**5/5 - (x - 1)**6/6 + (x - 1)**7/7 - (x - 1)**8/8 + (x - 1)**9/9 + x + O((x - 1)**10, (x, 1))"
            ]
          },
          "metadata": {},
          "execution_count": 61
        }
      ],
      "source": [
        "sm.series(sm.log(x), x0= 1, n=10)"
      ]
    },
    {
      "cell_type": "code",
      "execution_count": null,
      "id": "636b682c-6396-401a-a6e2-b1eedbd165aa",
      "metadata": {
        "colab": {
          "base_uri": "https://localhost:8080/",
          "height": 51
        },
        "id": "636b682c-6396-401a-a6e2-b1eedbd165aa",
        "outputId": "726cabaf-305b-48f8-dd64-0c52e7990256"
      },
      "outputs": [
        {
          "output_type": "execute_result",
          "data": {
            "text/latex": "$\\displaystyle \\frac{1}{x}$",
            "text/plain": [
              "1/x"
            ]
          },
          "metadata": {},
          "execution_count": 62
        }
      ],
      "source": [
        "sm.series(1/x, n=10)"
      ]
    },
    {
      "cell_type": "code",
      "execution_count": null,
      "id": "48e46871-ca7e-49f4-a9e3-0bea99092672",
      "metadata": {
        "colab": {
          "base_uri": "https://localhost:8080/",
          "height": 47
        },
        "id": "48e46871-ca7e-49f4-a9e3-0bea99092672",
        "outputId": "a98d2561-fb28-4032-c69f-ac2007427bc8"
      },
      "outputs": [
        {
          "output_type": "execute_result",
          "data": {
            "text/latex": "$\\displaystyle 2 + \\left(x - 1\\right)^{2} - \\left(x - 1\\right)^{3} + \\left(x - 1\\right)^{4} - \\left(x - 1\\right)^{5} + \\left(x - 1\\right)^{6} - \\left(x - 1\\right)^{7} + \\left(x - 1\\right)^{8} - \\left(x - 1\\right)^{9} - x + O\\left(\\left(x - 1\\right)^{10}; x\\rightarrow 1\\right)$",
            "text/plain": [
              "2 + (x - 1)**2 - (x - 1)**3 + (x - 1)**4 - (x - 1)**5 + (x - 1)**6 - (x - 1)**7 + (x - 1)**8 - (x - 1)**9 - x + O((x - 1)**10, (x, 1))"
            ]
          },
          "metadata": {},
          "execution_count": 63
        }
      ],
      "source": [
        "sm.series(1/x, x0=1, n=10)"
      ]
    },
    {
      "cell_type": "code",
      "execution_count": null,
      "id": "43163cdd-99db-45bd-b325-59f3d5cf8b60",
      "metadata": {
        "id": "43163cdd-99db-45bd-b325-59f3d5cf8b60"
      },
      "outputs": [],
      "source": [
        "# series summation\n",
        "\n",
        "k,n= sm.symbols('k,n')\n"
      ]
    },
    {
      "cell_type": "code",
      "execution_count": null,
      "id": "f5115865-8b6d-4c6f-8b02-a37fb0e82fec",
      "metadata": {
        "colab": {
          "base_uri": "https://localhost:8080/",
          "height": 54
        },
        "id": "f5115865-8b6d-4c6f-8b02-a37fb0e82fec",
        "outputId": "b92b6893-eebe-4bc7-8ac4-b70508c57f2e"
      },
      "outputs": [
        {
          "output_type": "execute_result",
          "data": {
            "text/latex": "$\\displaystyle \\frac{n^{2}}{2} + \\frac{n}{2}$",
            "text/plain": [
              "n**2/2 + n/2"
            ]
          },
          "metadata": {},
          "execution_count": 65
        }
      ],
      "source": [
        "y= k\n",
        "sm.summation(y, (k,0,n))"
      ]
    },
    {
      "cell_type": "code",
      "execution_count": null,
      "id": "3dd29da7-2b19-43b2-9cae-1af639b57908",
      "metadata": {
        "colab": {
          "base_uri": "https://localhost:8080/",
          "height": 54
        },
        "id": "3dd29da7-2b19-43b2-9cae-1af639b57908",
        "outputId": "f96cdb37-d2e9-4479-862b-6d6c5ca38d98"
      },
      "outputs": [
        {
          "output_type": "execute_result",
          "data": {
            "text/latex": "$\\displaystyle \\frac{n^{3}}{3} + \\frac{n^{2}}{2} + \\frac{n}{6}$",
            "text/plain": [
              "n**3/3 + n**2/2 + n/6"
            ]
          },
          "metadata": {},
          "execution_count": 66
        }
      ],
      "source": [
        "y= k**2\n",
        "sm.summation(y, (k,0,n))"
      ]
    },
    {
      "cell_type": "code",
      "execution_count": null,
      "id": "9582c7ad-c2d7-4f93-81d4-386e9a6d254c",
      "metadata": {
        "colab": {
          "base_uri": "https://localhost:8080/",
          "height": 54
        },
        "id": "9582c7ad-c2d7-4f93-81d4-386e9a6d254c",
        "outputId": "572b551c-0f47-4514-cc54-494c9fdccf83"
      },
      "outputs": [
        {
          "output_type": "execute_result",
          "data": {
            "text/latex": "$\\displaystyle \\frac{n^{4}}{4} + \\frac{n^{3}}{2} + \\frac{n^{2}}{4}$",
            "text/plain": [
              "n**4/4 + n**3/2 + n**2/4"
            ]
          },
          "metadata": {},
          "execution_count": 67
        }
      ],
      "source": [
        "y= k**3\n",
        "sm.summation(y, (k,0,n))\n"
      ]
    },
    {
      "cell_type": "code",
      "execution_count": null,
      "id": "f05dcb86-00cd-479e-9a51-78fdecc1410f",
      "metadata": {
        "colab": {
          "base_uri": "https://localhost:8080/",
          "height": 54
        },
        "id": "f05dcb86-00cd-479e-9a51-78fdecc1410f",
        "outputId": "02609a7f-3243-4e13-e23f-cbd76ae0e7f9"
      },
      "outputs": [
        {
          "output_type": "execute_result",
          "data": {
            "text/latex": "$\\displaystyle \\frac{n^{11}}{11} + \\frac{n^{10}}{2} + \\frac{5 n^{9}}{6} - n^{7} + n^{5} - \\frac{n^{3}}{2} + \\frac{5 n}{66}$",
            "text/plain": [
              "n**11/11 + n**10/2 + 5*n**9/6 - n**7 + n**5 - n**3/2 + 5*n/66"
            ]
          },
          "metadata": {},
          "execution_count": 68
        }
      ],
      "source": [
        "y= k**10\n",
        "sm.summation(y, (k,0,n))"
      ]
    },
    {
      "cell_type": "code",
      "execution_count": null,
      "id": "372edb88-96a6-4300-adca-0541b6aa51b3",
      "metadata": {
        "colab": {
          "base_uri": "https://localhost:8080/",
          "height": 68
        },
        "id": "372edb88-96a6-4300-adca-0541b6aa51b3",
        "outputId": "46c0fd5c-9925-42c9-c530-213b8a785e09"
      },
      "outputs": [
        {
          "output_type": "execute_result",
          "data": {
            "text/latex": "$\\displaystyle \\begin{cases} n + 1 & \\text{for}\\: p = 1 \\\\\\frac{1 - p^{n + 1}}{1 - p} & \\text{otherwise} \\end{cases}$",
            "text/plain": [
              "Piecewise((n + 1, Eq(p, 1)), ((1 - p**(n + 1))/(1 - p), True))"
            ]
          },
          "metadata": {},
          "execution_count": 69
        }
      ],
      "source": [
        "k,n,p= sm.symbols('k,n,p')\n",
        "y= p**k\n",
        "sm.summation(y, (k,0,n))"
      ]
    },
    {
      "cell_type": "code",
      "execution_count": null,
      "id": "abde6f70-4cf2-43a9-9186-37ca12c988cf",
      "metadata": {
        "colab": {
          "base_uri": "https://localhost:8080/",
          "height": 68
        },
        "id": "abde6f70-4cf2-43a9-9186-37ca12c988cf",
        "outputId": "d80dd360-c30b-450c-a1e5-16aec53bb0f9"
      },
      "outputs": [
        {
          "output_type": "execute_result",
          "data": {
            "text/latex": "$\\displaystyle \\begin{cases} \\frac{1}{1 - p} & \\text{for}\\: \\left|{p}\\right| < 1 \\\\\\sum_{k=0}^{\\infty} p^{k} & \\text{otherwise} \\end{cases}$",
            "text/plain": [
              "Piecewise((1/(1 - p), Abs(p) < 1), (Sum(p**k, (k, 0, oo)), True))"
            ]
          },
          "metadata": {},
          "execution_count": 70
        }
      ],
      "source": [
        "sm.summation(y, (k,0,sm.oo))"
      ]
    },
    {
      "cell_type": "code",
      "execution_count": null,
      "id": "ae1dbaf8-956b-4d21-b843-74dbc6993d2e",
      "metadata": {
        "id": "ae1dbaf8-956b-4d21-b843-74dbc6993d2e"
      },
      "outputs": [],
      "source": [
        ""
      ]
    },
    {
      "cell_type": "code",
      "execution_count": null,
      "id": "0cbf4f80-e32b-4b89-8ddb-fea9926761d4",
      "metadata": {
        "id": "0cbf4f80-e32b-4b89-8ddb-fea9926761d4"
      },
      "outputs": [],
      "source": [
        "# series summation vs integration\n",
        "\n",
        "x, k, n= sm.symbols('x, k,n')\n"
      ]
    },
    {
      "cell_type": "code",
      "execution_count": null,
      "id": "262afd68-b61e-4c09-8d3f-3147cf221444",
      "metadata": {
        "colab": {
          "base_uri": "https://localhost:8080/",
          "height": 54
        },
        "id": "262afd68-b61e-4c09-8d3f-3147cf221444",
        "outputId": "eadbe419-4415-476d-cab0-e8e466133e47"
      },
      "outputs": [
        {
          "output_type": "execute_result",
          "data": {
            "text/latex": "$\\displaystyle \\frac{n^{2}}{2}$",
            "text/plain": [
              "n**2/2"
            ]
          },
          "metadata": {},
          "execution_count": 72
        }
      ],
      "source": [
        "y= x\n",
        "sm.integrate(y, (x,0,n))"
      ]
    },
    {
      "cell_type": "code",
      "execution_count": null,
      "id": "7b884d0f-d55a-44dd-bf14-ad660406b795",
      "metadata": {
        "colab": {
          "base_uri": "https://localhost:8080/",
          "height": 54
        },
        "id": "7b884d0f-d55a-44dd-bf14-ad660406b795",
        "outputId": "a6a698f4-6ab2-431e-f20c-07009b4473c4"
      },
      "outputs": [
        {
          "output_type": "execute_result",
          "data": {
            "text/latex": "$\\displaystyle \\frac{n^{3}}{3}$",
            "text/plain": [
              "n**3/3"
            ]
          },
          "metadata": {},
          "execution_count": 73
        }
      ],
      "source": [
        "y= x**2\n",
        "sm.integrate(y, (x,0,n))"
      ]
    },
    {
      "cell_type": "code",
      "execution_count": null,
      "id": "3e3b1404-47ac-4cdb-bd1f-76fa8b770c5a",
      "metadata": {
        "colab": {
          "base_uri": "https://localhost:8080/",
          "height": 54
        },
        "id": "3e3b1404-47ac-4cdb-bd1f-76fa8b770c5a",
        "outputId": "1a725e43-4f01-4ff1-904e-a35589172233"
      },
      "outputs": [
        {
          "output_type": "execute_result",
          "data": {
            "text/latex": "$\\displaystyle \\frac{n^{4}}{4}$",
            "text/plain": [
              "n**4/4"
            ]
          },
          "metadata": {},
          "execution_count": 74
        }
      ],
      "source": [
        "y= x**3\n",
        "sm.integrate(y, (x,0,n))\n"
      ]
    },
    {
      "cell_type": "code",
      "execution_count": null,
      "id": "333ffbe4-bbc5-4b66-8cb1-2a40382e1f3c",
      "metadata": {
        "colab": {
          "base_uri": "https://localhost:8080/",
          "height": 54
        },
        "id": "333ffbe4-bbc5-4b66-8cb1-2a40382e1f3c",
        "outputId": "3e2571e6-3fec-4f40-93cf-17481d05f245"
      },
      "outputs": [
        {
          "output_type": "execute_result",
          "data": {
            "text/latex": "$\\displaystyle \\frac{n^{11}}{11}$",
            "text/plain": [
              "n**11/11"
            ]
          },
          "metadata": {},
          "execution_count": 75
        }
      ],
      "source": [
        "y= x**10\n",
        "sm.integrate(y, (x,0,n))"
      ]
    },
    {
      "cell_type": "code",
      "execution_count": null,
      "id": "e65601c6-1856-4a71-adec-c913ace079b5",
      "metadata": {
        "id": "e65601c6-1856-4a71-adec-c913ace079b5"
      },
      "outputs": [],
      "source": [
        ""
      ]
    },
    {
      "cell_type": "code",
      "execution_count": null,
      "id": "6c2e0202-9da6-4047-bbd3-1172f1c97897",
      "metadata": {
        "id": "6c2e0202-9da6-4047-bbd3-1172f1c97897"
      },
      "outputs": [],
      "source": [
        "# Double Integration\n",
        "x,y=sm.symbols('x,y')"
      ]
    },
    {
      "cell_type": "code",
      "execution_count": null,
      "id": "f8fa9cc2-5dd8-4e39-bb15-a15467140c41",
      "metadata": {
        "colab": {
          "base_uri": "https://localhost:8080/",
          "height": 39
        },
        "id": "f8fa9cc2-5dd8-4e39-bb15-a15467140c41",
        "outputId": "9caa059d-f6ea-4bb1-c9d4-edf2c8408287"
      },
      "outputs": [
        {
          "output_type": "execute_result",
          "data": {
            "text/latex": "$\\displaystyle 8 x y$",
            "text/plain": [
              "8*x*y"
            ]
          },
          "metadata": {},
          "execution_count": 77
        }
      ],
      "source": [
        "z= 8*x*y\n",
        "z"
      ]
    },
    {
      "cell_type": "code",
      "execution_count": null,
      "id": "5ce6e634-f8ca-481b-a900-9bcec36b276c",
      "metadata": {
        "colab": {
          "base_uri": "https://localhost:8080/",
          "height": 39
        },
        "id": "5ce6e634-f8ca-481b-a900-9bcec36b276c",
        "outputId": "0af247d0-bbd3-493e-e95c-98ae35d58253"
      },
      "outputs": [
        {
          "output_type": "execute_result",
          "data": {
            "text/latex": "$\\displaystyle 8 y$",
            "text/plain": [
              "8*y"
            ]
          },
          "metadata": {},
          "execution_count": 78
        }
      ],
      "source": [
        "z.diff(x)"
      ]
    },
    {
      "cell_type": "code",
      "execution_count": null,
      "id": "703cf320-3752-4820-904a-32d0af48ac7e",
      "metadata": {
        "colab": {
          "base_uri": "https://localhost:8080/",
          "height": 39
        },
        "id": "703cf320-3752-4820-904a-32d0af48ac7e",
        "outputId": "d7421ff8-a04b-4535-a2b5-9187dc290b64"
      },
      "outputs": [
        {
          "output_type": "execute_result",
          "data": {
            "text/latex": "$\\displaystyle 8 x$",
            "text/plain": [
              "8*x"
            ]
          },
          "metadata": {},
          "execution_count": 79
        }
      ],
      "source": [
        "z.diff(y)"
      ]
    },
    {
      "cell_type": "code",
      "execution_count": null,
      "id": "d09de939-5af3-4537-977c-8ccad702ae99",
      "metadata": {
        "colab": {
          "base_uri": "https://localhost:8080/",
          "height": 39
        },
        "id": "d09de939-5af3-4537-977c-8ccad702ae99",
        "outputId": "1e5ff716-faeb-4949-bf70-d31d856a0aa0"
      },
      "outputs": [
        {
          "output_type": "execute_result",
          "data": {
            "text/latex": "$\\displaystyle 4 x^{2} y$",
            "text/plain": [
              "4*x**2*y"
            ]
          },
          "metadata": {},
          "execution_count": 80
        }
      ],
      "source": [
        "z.integrate(x)"
      ]
    },
    {
      "cell_type": "code",
      "execution_count": null,
      "id": "88bce3e8-6f92-429d-b9ea-631d6cc1ad81",
      "metadata": {
        "colab": {
          "base_uri": "https://localhost:8080/",
          "height": 39
        },
        "id": "88bce3e8-6f92-429d-b9ea-631d6cc1ad81",
        "outputId": "8ec6ba12-b23c-4268-e930-3fc5bfefdf2c"
      },
      "outputs": [
        {
          "output_type": "execute_result",
          "data": {
            "text/latex": "$\\displaystyle 4 x y^{2}$",
            "text/plain": [
              "4*x*y**2"
            ]
          },
          "metadata": {},
          "execution_count": 81
        }
      ],
      "source": [
        "z.integrate(y)"
      ]
    },
    {
      "cell_type": "code",
      "execution_count": null,
      "id": "0fb01b58-c03d-47cf-bf24-f95546ae81fe",
      "metadata": {
        "colab": {
          "base_uri": "https://localhost:8080/",
          "height": 39
        },
        "id": "0fb01b58-c03d-47cf-bf24-f95546ae81fe",
        "outputId": "55b3c8e2-fe7b-4f25-e4f9-12b9ae4c1e51"
      },
      "outputs": [
        {
          "output_type": "execute_result",
          "data": {
            "text/latex": "$\\displaystyle 2 x^{2} y^{2}$",
            "text/plain": [
              "2*x**2*y**2"
            ]
          },
          "metadata": {},
          "execution_count": 82
        }
      ],
      "source": [
        "z.integrate(x).integrate(y)"
      ]
    },
    {
      "cell_type": "code",
      "execution_count": null,
      "id": "f17a8670-6d94-40cc-86fa-37bec204f6db",
      "metadata": {
        "colab": {
          "base_uri": "https://localhost:8080/",
          "height": 39
        },
        "id": "f17a8670-6d94-40cc-86fa-37bec204f6db",
        "outputId": "08071633-74f2-44e7-c137-d2d892cb7f0b"
      },
      "outputs": [
        {
          "output_type": "execute_result",
          "data": {
            "text/latex": "$\\displaystyle 2 x^{2} y^{2}$",
            "text/plain": [
              "2*x**2*y**2"
            ]
          },
          "metadata": {},
          "execution_count": 83
        }
      ],
      "source": [
        "z.integrate(x,y)"
      ]
    },
    {
      "cell_type": "code",
      "execution_count": null,
      "id": "4b4dd0cd-5375-40c8-b0de-f784da249bb2",
      "metadata": {
        "colab": {
          "base_uri": "https://localhost:8080/",
          "height": 37
        },
        "id": "4b4dd0cd-5375-40c8-b0de-f784da249bb2",
        "outputId": "b50a5579-9834-43a2-c456-3337f8e4d83f"
      },
      "outputs": [
        {
          "output_type": "execute_result",
          "data": {
            "text/latex": "$\\displaystyle 2$",
            "text/plain": [
              "2"
            ]
          },
          "metadata": {},
          "execution_count": 84
        }
      ],
      "source": [
        "z.integrate((x,0,1),(y,0,1)) # 0 <= x <= 1, 0 <= y <= 1 "
      ]
    },
    {
      "cell_type": "code",
      "execution_count": null,
      "id": "575b64ea-2883-4915-b0e9-f753b69772f7",
      "metadata": {
        "colab": {
          "base_uri": "https://localhost:8080/",
          "height": 37
        },
        "id": "575b64ea-2883-4915-b0e9-f753b69772f7",
        "outputId": "39e12e49-6ccc-4a2c-a862-298ce7d583a4"
      },
      "outputs": [
        {
          "output_type": "execute_result",
          "data": {
            "text/latex": "$\\displaystyle 1$",
            "text/plain": [
              "1"
            ]
          },
          "metadata": {},
          "execution_count": 85
        }
      ],
      "source": [
        "z.integrate((x,0,y),(y,0,1)) # 0 <= x <= y, 0 <= y <= 1 "
      ]
    },
    {
      "cell_type": "code",
      "execution_count": null,
      "id": "732d245b-d9b3-4d2c-bd22-0cd756d0da4b",
      "metadata": {
        "colab": {
          "base_uri": "https://localhost:8080/",
          "height": 37
        },
        "id": "732d245b-d9b3-4d2c-bd22-0cd756d0da4b",
        "outputId": "39eeb198-2907-4730-9b09-181b45b28495"
      },
      "outputs": [
        {
          "output_type": "execute_result",
          "data": {
            "text/latex": "$\\displaystyle 1$",
            "text/plain": [
              "1"
            ]
          },
          "metadata": {},
          "execution_count": 86
        }
      ],
      "source": [
        "# \"Fubini magic\", swap the integration order\n",
        "z.integrate((y,x,1), (x,0,1)) # x <= y <= 1, 0 <= x <= 1 \n"
      ]
    },
    {
      "cell_type": "code",
      "execution_count": null,
      "id": "94cda78b-3265-4f95-91b2-f7c4eb649ade",
      "metadata": {
        "colab": {
          "base_uri": "https://localhost:8080/",
          "height": 41
        },
        "id": "94cda78b-3265-4f95-91b2-f7c4eb649ade",
        "outputId": "7aee44f0-b37d-4296-8653-e7c408fe4e3f"
      },
      "outputs": [
        {
          "output_type": "execute_result",
          "data": {
            "text/latex": "$\\displaystyle e^{- x^{2}}$",
            "text/plain": [
              "exp(-x**2)"
            ]
          },
          "metadata": {},
          "execution_count": 87
        }
      ],
      "source": [
        "# the Bell-shape function\n",
        "\n",
        "z= sm.exp(-x**2)\n",
        "z"
      ]
    },
    {
      "cell_type": "code",
      "execution_count": null,
      "id": "e147ae1f-525c-4634-ac13-c501b4ccb10b",
      "metadata": {
        "colab": {
          "base_uri": "https://localhost:8080/",
          "height": 313
        },
        "id": "e147ae1f-525c-4634-ac13-c501b4ccb10b",
        "outputId": "af609869-27e5-40ff-aa94-5685ff970bd1"
      },
      "outputs": [
        {
          "output_type": "display_data",
          "data": {
            "image/png": "[encoded data removed]",
            "text/plain": [
              "<Figure size 432x288 with 1 Axes>"
            ]
          },
          "metadata": {
            "needs_background": "light"
          }
        },
        {
          "output_type": "execute_result",
          "data": {
            "text/plain": [
              "<sympy.plotting.plot.Plot at 0x7f47eb0c58d0>"
            ]
          },
          "metadata": {},
          "execution_count": 88
        }
      ],
      "source": [
        "sm.plot(z)"
      ]
    },
    {
      "cell_type": "code",
      "execution_count": null,
      "id": "07b30374-bfd7-4a8f-9638-3baff45f2c0a",
      "metadata": {
        "colab": {
          "base_uri": "https://localhost:8080/",
          "height": 53
        },
        "id": "07b30374-bfd7-4a8f-9638-3baff45f2c0a",
        "outputId": "0ced5b79-6c65-4d6b-a403-7a006d5d8ed3"
      },
      "outputs": [
        {
          "output_type": "execute_result",
          "data": {
            "text/latex": "$\\displaystyle \\frac{\\sqrt{\\pi} \\operatorname{erf}{\\left(x \\right)}}{2}$",
            "text/plain": [
              "sqrt(pi)*erf(x)/2"
            ]
          },
          "metadata": {},
          "execution_count": 89
        }
      ],
      "source": [
        "# The area under the Bell curve.\n",
        "z.integrate(x)"
      ]
    },
    {
      "cell_type": "code",
      "execution_count": null,
      "id": "7f992705-504d-47e7-a9b1-bd164533e761",
      "metadata": {
        "colab": {
          "base_uri": "https://localhost:8080/",
          "height": 37
        },
        "id": "7f992705-504d-47e7-a9b1-bd164533e761",
        "outputId": "9aed43c3-8bb0-45de-d44d-292bcb10ca09"
      },
      "outputs": [
        {
          "output_type": "execute_result",
          "data": {
            "text/latex": "$\\displaystyle \\sqrt{\\pi}$",
            "text/plain": [
              "sqrt(pi)"
            ]
          },
          "metadata": {},
          "execution_count": 90
        }
      ],
      "source": [
        "z.integrate((x,-sm.oo, +sm.oo))"
      ]
    },
    {
      "cell_type": "code",
      "execution_count": null,
      "id": "da59db91-9cff-441d-9acb-a2bde3a264bb",
      "metadata": {
        "id": "da59db91-9cff-441d-9acb-a2bde3a264bb"
      },
      "outputs": [],
      "source": [
        "#%matplotlib qt\n",
        "#sm.plot(z)"
      ]
    },
    {
      "cell_type": "code",
      "execution_count": null,
      "id": "624e4f88-214e-4762-b25e-c0edc6ad363f",
      "metadata": {
        "id": "624e4f88-214e-4762-b25e-c0edc6ad363f"
      },
      "outputs": [],
      "source": [
        "import matplotlib.pyplot as pl"
      ]
    },
    {
      "cell_type": "code",
      "execution_count": null,
      "id": "317315ab-fb1c-4fdb-883e-b5728470cfdd",
      "metadata": {
        "colab": {
          "base_uri": "https://localhost:8080/",
          "height": 548
        },
        "id": "317315ab-fb1c-4fdb-883e-b5728470cfdd",
        "outputId": "8758d25b-2513-4bd6-bc0e-fe76b2b99aee"
      },
      "outputs": [
        {
          "output_type": "display_data",
          "data": {
            "image/png": "[encoded data removed]",
            "text/plain": [
              "<Figure size 432x288 with 1 Axes>"
            ]
          },
          "metadata": {
            "needs_background": "light"
          }
        },
        {
          "output_type": "display_data",
          "data": {
            "image/png": "[encoded data removed]",
            "text/plain": [
              "<Figure size 432x288 with 1 Axes>"
            ]
          },
          "metadata": {
            "needs_background": "light"
          }
        }
      ],
      "source": [
        "sm.plot(z)\n",
        "pl.grid()"
      ]
    },
    {
      "cell_type": "code",
      "execution_count": null,
      "id": "eda3d302-c09f-4410-b9ea-bc78f52718fd",
      "metadata": {
        "id": "eda3d302-c09f-4410-b9ea-bc78f52718fd"
      },
      "outputs": [],
      "source": [
        "\n"
      ]
    },
    {
      "cell_type": "code",
      "execution_count": null,
      "id": "9c97deff-8f16-4127-9d92-e24d536c0d7e",
      "metadata": {
        "colab": {
          "base_uri": "https://localhost:8080/",
          "height": 39
        },
        "id": "9c97deff-8f16-4127-9d92-e24d536c0d7e",
        "outputId": "6c293aad-a26f-445c-8ad0-9772c50d7ff2"
      },
      "outputs": [
        {
          "output_type": "execute_result",
          "data": {
            "text/latex": "$\\displaystyle \\sin{\\left(x \\right)} + \\sin{\\left(2 x \\right)}$",
            "text/plain": [
              "sin(x) + sin(2*x)"
            ]
          },
          "metadata": {},
          "execution_count": 94
        }
      ],
      "source": [
        "y= sm.sin(x) + sm.sin(2*x)\n",
        "y"
      ]
    },
    {
      "cell_type": "code",
      "execution_count": null,
      "id": "c063547d-0c62-47ae-bd26-361ec436ec1b",
      "metadata": {
        "colab": {
          "base_uri": "https://localhost:8080/"
        },
        "id": "c063547d-0c62-47ae-bd26-361ec436ec1b",
        "outputId": "69d3a3d0-920b-44ea-c958-c7abc23a526a"
      },
      "outputs": [
        {
          "output_type": "execute_result",
          "data": {
            "text/plain": [
              "[0, -4*pi/3, -pi, -2*pi/3, 2*pi/3, pi, 4*pi/3, 2*pi]"
            ]
          },
          "metadata": {},
          "execution_count": 95
        }
      ],
      "source": [
        "sm.solve(y)"
      ]
    },
    {
      "cell_type": "code",
      "execution_count": null,
      "id": "0a9625c0-5074-4deb-aa27-ef5edc3e5484",
      "metadata": {
        "colab": {
          "base_uri": "https://localhost:8080/"
        },
        "id": "0a9625c0-5074-4deb-aa27-ef5edc3e5484",
        "outputId": "af6f9deb-76ae-45c6-8278-67d611ae1401"
      },
      "outputs": [
        {
          "output_type": "execute_result",
          "data": {
            "text/plain": [
              "[1/((-1/2 - sqrt(3)*I/2)*(27/2 + 3*sqrt(93)/2)**(1/3)) - (-1/2 - sqrt(3)*I/2)*(27/2 + 3*sqrt(93)/2)**(1/3)/3,\n",
              " -(-1/2 + sqrt(3)*I/2)*(27/2 + 3*sqrt(93)/2)**(1/3)/3 + 1/((-1/2 + sqrt(3)*I/2)*(27/2 + 3*sqrt(93)/2)**(1/3)),\n",
              " -(27/2 + 3*sqrt(93)/2)**(1/3)/3 + (27/2 + 3*sqrt(93)/2)**(-1/3)]"
            ]
          },
          "metadata": {},
          "execution_count": 96
        }
      ],
      "source": [
        "y= x**3 + x + 1\n",
        "sol= sm.solve(y)\n",
        "sol"
      ]
    },
    {
      "cell_type": "code",
      "execution_count": null,
      "id": "dca2c45c-8cc5-4c03-ad42-59ae4af8fcd5",
      "metadata": {
        "id": "dca2c45c-8cc5-4c03-ad42-59ae4af8fcd5"
      },
      "outputs": [],
      "source": [
        ""
      ]
    },
    {
      "cell_type": "code",
      "execution_count": null,
      "id": "e893bb6e-4e1c-43a6-a4eb-195ed33d7751",
      "metadata": {
        "colab": {
          "base_uri": "https://localhost:8080/",
          "height": 39
        },
        "id": "e893bb6e-4e1c-43a6-a4eb-195ed33d7751",
        "outputId": "8d45f547-1118-4f71-85d1-a6bfd17fbdcc"
      },
      "outputs": [
        {
          "output_type": "execute_result",
          "data": {
            "text/latex": "$\\displaystyle x^{3} + x^{2} + x + 1$",
            "text/plain": [
              "x**3 + x**2 + x + 1"
            ]
          },
          "metadata": {},
          "execution_count": 97
        }
      ],
      "source": [
        "x= sm.symbols('x')\n",
        "y= x**3 + x**2 + x + 1\n",
        "y"
      ]
    },
    {
      "cell_type": "code",
      "execution_count": null,
      "id": "90380979-3301-4946-a210-6a8a1c41b49d",
      "metadata": {
        "colab": {
          "base_uri": "https://localhost:8080/",
          "height": 39
        },
        "id": "90380979-3301-4946-a210-6a8a1c41b49d",
        "outputId": "c2f76041-d09a-48b9-e0dc-cbdc43e65b5a"
      },
      "outputs": [
        {
          "output_type": "execute_result",
          "data": {
            "text/latex": "$\\displaystyle x^{3} + x^{2} + x + 1 = 0$",
            "text/plain": [
              "Eq(x**3 + x**2 + x + 1, 0)"
            ]
          },
          "metadata": {},
          "execution_count": 98
        }
      ],
      "source": [
        "eq= sm.Eq(y, 0)\n",
        "eq"
      ]
    },
    {
      "cell_type": "code",
      "execution_count": null,
      "id": "54e5c67a-5f34-4a03-8291-7ee84114ebff",
      "metadata": {
        "colab": {
          "base_uri": "https://localhost:8080/"
        },
        "id": "54e5c67a-5f34-4a03-8291-7ee84114ebff",
        "outputId": "e8f51d88-373d-49e5-cfe9-aafc78a34697"
      },
      "outputs": [
        {
          "output_type": "execute_result",
          "data": {
            "text/plain": [
              "[-1, -I, I]"
            ]
          },
          "metadata": {},
          "execution_count": 99
        }
      ],
      "source": [
        "sol= sm.solve(eq)\n",
        "sol"
      ]
    },
    {
      "cell_type": "code",
      "execution_count": null,
      "id": "4ba74b4b-2612-42ed-a391-f7230f39b06e",
      "metadata": {
        "id": "4ba74b4b-2612-42ed-a391-f7230f39b06e"
      },
      "outputs": [],
      "source": [
        ""
      ]
    }
  ],
  "metadata": {
    "kernelspec": {
      "display_name": "Python 3",
      "language": "python",
      "name": "python3"
    },
    "language_info": {
      "codemirror_mode": {
        "name": "ipython",
        "version": 3
      },
      "file_extension": ".py",
      "mimetype": "text/x-python",
      "name": "python",
      "nbconvert_exporter": "python",
      "pygments_lexer": "ipython3",
      "version": "3.8.8"
    },
    "colab": {
      "name": "useSympytoDoCalculus.ipynb",
      "provenance": [],
      "include_colab_link": true
    }
  },
  "nbformat": 4,
  "nbformat_minor": 5
}